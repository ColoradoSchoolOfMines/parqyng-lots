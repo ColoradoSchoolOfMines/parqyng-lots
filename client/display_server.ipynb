{
 "cells": [
  {
   "cell_type": "markdown",
   "metadata": {},
   "source": [
    "# Server OLED Display Controller\n",
    "\n",
    "This notebook displays a parking lot counter on an OLED display. It communicates with `/server` using HTTP, updating the counters every 2 seconds."
   ]
  },
  {
   "cell_type": "markdown",
   "metadata": {},
   "source": [
    "First we must import some stuff and load `config.json`. This simply stores the server address for us."
   ]
  },
  {
   "cell_type": "code",
   "execution_count": null,
   "metadata": {},
   "outputs": [],
   "source": [
    "from pynq.lib.pmod import PMOD_GROVE_G3\n",
    "from pynq.lib.pmod import PMODA\n",
    "from pynq import PL\n",
    "\n",
    "import oled\n",
    "import json\n",
    "import requests\n",
    "import time\n",
    "\n",
    "# load config\n",
    "config = json.load(open('config.json'))\n",
    "config"
   ]
  },
  {
   "cell_type": "markdown",
   "metadata": {},
   "source": [
    "Now we instantiate the `OledDisplay` class found in `oled.py`. It is mostly a clone of `~/base/pmod/pmod_grove_oled.ipynb`.\n",
    "\n",
    "We also reset and clear the display."
   ]
  },
  {
   "cell_type": "code",
   "execution_count": null,
   "metadata": {},
   "outputs": [],
   "source": [
    "# display lib from oled.py\n",
    "display = oled.OledDisplay(PMODA, PMOD_GROVE_G3)\n",
    "\n",
    "# reset diplay\n",
    "PL.reset()\n",
    "display.clear()"
   ]
  },
  {
   "cell_type": "markdown",
   "metadata": {},
   "source": [
    "Next we define the `write` function, which simply prints a string on a line of the OLED display. It keeps track of the current length of each line, so that when a shorter line replaces a longer one, it can clear out the trailing characters."
   ]
  },
  {
   "cell_type": "code",
   "execution_count": null,
   "metadata": {},
   "outputs": [],
   "source": [
    "# track line lengths\n",
    "old_lines = [0 for _ in range(8)]\n",
    "\n",
    "# easy printing\n",
    "def write(text, line=0):\n",
    "    global display\n",
    "    global old_lines\n",
    "    \n",
    "    old_len = old_lines[line]\n",
    "    # prevent overflow\n",
    "    if len(text) > 16:\n",
    "        text = text[:16]\n",
    "    new_len = len(text)\n",
    "\n",
    "    # write the text to the line\n",
    "    display.set_XY(line, 0)\n",
    "    display.write(text)\n",
    "    \n",
    "    # clear trailing chars\n",
    "    if new_len < old_len:\n",
    "        display.set_XY(line, new_len)\n",
    "        display.write(' ' * (old_len - new_len))\n",
    "    \n",
    "    # save the new line length\n",
    "    old_lines[line] = new_len"
   ]
  },
  {
   "cell_type": "markdown",
   "metadata": {},
   "source": [
    "Now we connect to the server and update the display every 2 seconds. We iterate through the first 4 (or fewer) lots, printing their names and counts to the display. Finally the display object is deleted, cleaning things up."
   ]
  },
  {
   "cell_type": "code",
   "execution_count": null,
   "metadata": {},
   "outputs": [],
   "source": [
    "server = config['server']\n",
    "while True:\n",
    "    res = requests.get('{}/lots'.format(server)).json()\n",
    "    lots = res['lots']\n",
    "    for i in range(4):\n",
    "        if i < len(lots):\n",
    "            lot = lots[i]\n",
    "            write('{}: {}'.format(lot['name'], lot['cars']), i * 2)\n",
    "        else:\n",
    "            write('', i * 2)\n",
    "    \n",
    "    time.sleep(2)\n",
    "\n",
    "del display"
   ]
  }
 ],
 "metadata": {
  "kernelspec": {
   "display_name": "Python 3",
   "language": "python",
   "name": "python3"
  },
  "language_info": {
   "codemirror_mode": {
    "name": "ipython",
    "version": 3
   },
   "file_extension": ".py",
   "mimetype": "text/x-python",
   "name": "python",
   "nbconvert_exporter": "python",
   "pygments_lexer": "ipython3",
   "version": "3.6.2"
  }
 },
 "nbformat": 4,
 "nbformat_minor": 2
}
