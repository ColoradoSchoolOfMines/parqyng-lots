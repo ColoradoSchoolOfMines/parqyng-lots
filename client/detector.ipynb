{
 "cells": [
  {
   "cell_type": "markdown",
   "metadata": {},
   "source": [
    "# Motion Sensor Controller\n",
    "\n",
    "This code controls the motion sensors and sends data to the web appplication.\n",
    "\n",
    "Spacing specifies the distance between the sensors, so that the velocity may be calculated (not important to motion detection algorithm)."
   ]
  },
  {
   "cell_type": "code",
   "execution_count": null,
   "metadata": {},
   "outputs": [],
   "source": [
    "from pynq.overlays.base import BaseOverlay\n",
    "import time\n",
    "base = BaseOverlay('base.bit')\n",
    "spacing = 1.8"
   ]
  },
  {
   "cell_type": "markdown",
   "metadata": {},
   "source": [
    "This cell loads config data from this directory, most notibly the server address."
   ]
  },
  {
   "cell_type": "code",
   "execution_count": null,
   "metadata": {},
   "outputs": [],
   "source": [
    "import json\n",
    "config = json.load(open('config.json'))"
   ]
  },
  {
   "cell_type": "markdown",
   "metadata": {},
   "source": [
    "This is the function responsible for sending data to the server. It runs concurrently in a separate thread, to allow the sensor code to run in parallel."
   ]
  },
  {
   "cell_type": "code",
   "execution_count": null,
   "metadata": {},
   "outputs": [],
   "source": [
    "from concurrent.futures import ThreadPoolExecutor\n",
    "from requests_futures.sessions import FuturesSession\n",
    "executor = ThreadPoolExecutor(max_workers=4)\n",
    "server = config['server']\n",
    "session = FuturesSession(executor=executor)\n",
    "f_params = session.post(server + '/register?lot=1')\n",
    "def log_to_server(direc):\n",
    "    params = f_params.result().json()\n",
    "    params[direc] = 1\n",
    "    session.post(server + \"/report\", json=params)"
   ]
  },
  {
   "cell_type": "markdown",
   "metadata": {},
   "source": [
    "## Setting up the sensors and outputs\n",
    "\n",
    "Set up the sensors and debugging outputs.\n",
    "\n",
    "1. You should connect the **first PIR sensor for the enterance** to `G1` on `PMODA`.\n",
    "2. You should connect the **first PIR sensor for the exit** to `G2` on `PMODA`.\n",
    "3. Optionally, you may connect the LED bar to `G4` on `PMODB` (useful for debugging).\n",
    "4. Optionally, you may connect a buzzer to `G1` on the Arduino shield (useful for debugging).\n"
   ]
  },
  {
   "cell_type": "code",
   "execution_count": null,
   "metadata": {
    "scrolled": false
   },
   "outputs": [],
   "source": [
    "from pynq.lib.pmod import *\n",
    "from pynq.lib.arduino import Grove_Buzzer as A_Grove_Buzzer, ARDUINO_GROVE_G1\n",
    "sensors = [Grove_PIR(base.PMODA, port) for port in (PMOD_GROVE_G1, PMOD_GROVE_G2)]\n",
    "bar = Grove_LEDbar(base.PMODB, PMOD_GROVE_G4)\n",
    "buzz = A_Grove_Buzzer(base.ARDUINO, ARDUINO_GROVE_G1)"
   ]
  },
  {
   "cell_type": "markdown",
   "metadata": {},
   "source": [
    "## Detecting Movement & Direction\n",
    "\n",
    "These are functions to play ascending and descending dubugging tones:"
   ]
  },
  {
   "cell_type": "code",
   "execution_count": null,
   "metadata": {},
   "outputs": [],
   "source": [
    "def tone_asc():\n",
    "    buzz.play_tone(494, 428)\n",
    "    buzz.play_tone(659, 428)\n",
    "    \n",
    "def tone_desc():\n",
    "    buzz.play_tone(659, 428)\n",
    "    buzz.play_tone(494, 428)"
   ]
  },
  {
   "cell_type": "markdown",
   "metadata": {},
   "source": [
    "The actual code -- pretty simple: if something triggered the other sensor (change in output from PIR sensor) in the past 10 seconds, then trigger the direction of the motion."
   ]
  },
  {
   "cell_type": "code",
   "execution_count": null,
   "metadata": {},
   "outputs": [],
   "source": [
    "detect = [0 for s in sensors]\n",
    "last = [s.read() for s in sensors]\n",
    "while True:\n",
    "    display = 0\n",
    "    for m, i, s in zip([0b1111100000, 0b0000011111], [0, 1], sensors):\n",
    "        r = s.read()\n",
    "        clock = time.process_time()\n",
    "        display |= r and m\n",
    "        if r != last[i]:\n",
    "            # change in sensor output\n",
    "            last[i] = r\n",
    "            if r and detect[not i]:\n",
    "                executor.submit([tone_desc, tone_asc][i])\n",
    "                log_to_server([\"exit\", \"enter\"][i])\n",
    "                print(\"in\" if i else \"out\", \"|\", spacing/(clock - detect[not i]), \"m/s\")\n",
    "                detect[not i] = 0\n",
    "            elif r:\n",
    "                detect[i] = clock\n",
    "    detect = [0 if clock - 4 > v else v for v in detect]\n",
    "    bar.write_binary(display)"
   ]
  }
 ],
 "metadata": {
  "kernelspec": {
   "display_name": "Python 3",
   "language": "python",
   "name": "python3"
  },
  "language_info": {
   "codemirror_mode": {
    "name": "ipython",
    "version": 3
   },
   "file_extension": ".py",
   "mimetype": "text/x-python",
   "name": "python",
   "nbconvert_exporter": "python",
   "pygments_lexer": "ipython3",
   "version": "3.6.0"
  }
 },
 "nbformat": 4,
 "nbformat_minor": 2
}
