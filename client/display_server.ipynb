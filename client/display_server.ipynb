{
 "cells": [
  {
   "cell_type": "code",
   "execution_count": 26,
   "metadata": {},
   "outputs": [
    {
     "name": "stdout",
     "output_type": "stream",
     "text": [
      "{'server': 'http://192.168.2.42:8080'}\n"
     ]
    },
    {
     "ename": "KeyboardInterrupt",
     "evalue": "",
     "output_type": "error",
     "traceback": [
      "\u001b[0;31m---------------------------------------------------------------------------\u001b[0m",
      "\u001b[0;31mKeyboardInterrupt\u001b[0m                         Traceback (most recent call last)",
      "\u001b[0;32m<ipython-input-26-7ee1e59a4056>\u001b[0m in \u001b[0;36m<module>\u001b[0;34m()\u001b[0m\n\u001b[1;32m     48\u001b[0m         \u001b[0mwrite\u001b[0m\u001b[0;34m(\u001b[0m\u001b[0;34m'{}: {}'\u001b[0m\u001b[0;34m.\u001b[0m\u001b[0mformat\u001b[0m\u001b[0;34m(\u001b[0m\u001b[0mlot\u001b[0m\u001b[0;34m[\u001b[0m\u001b[0;34m'name'\u001b[0m\u001b[0;34m]\u001b[0m\u001b[0;34m,\u001b[0m \u001b[0mlot\u001b[0m\u001b[0;34m[\u001b[0m\u001b[0;34m'cars'\u001b[0m\u001b[0;34m]\u001b[0m\u001b[0;34m)\u001b[0m\u001b[0;34m,\u001b[0m \u001b[0mi\u001b[0m \u001b[0;34m*\u001b[0m \u001b[0;36m2\u001b[0m\u001b[0;34m)\u001b[0m\u001b[0;34m\u001b[0m\u001b[0m\n\u001b[1;32m     49\u001b[0m \u001b[0;34m\u001b[0m\u001b[0m\n\u001b[0;32m---> 50\u001b[0;31m     \u001b[0mtime\u001b[0m\u001b[0;34m.\u001b[0m\u001b[0msleep\u001b[0m\u001b[0;34m(\u001b[0m\u001b[0;36m2\u001b[0m\u001b[0;34m)\u001b[0m\u001b[0;34m\u001b[0m\u001b[0m\n\u001b[0m\u001b[1;32m     51\u001b[0m \u001b[0;34m\u001b[0m\u001b[0m\n\u001b[1;32m     52\u001b[0m \u001b[0;32mdel\u001b[0m \u001b[0mdisplay\u001b[0m\u001b[0;34m\u001b[0m\u001b[0m\n",
      "\u001b[0;31mKeyboardInterrupt\u001b[0m: "
     ]
    }
   ],
   "source": [
    "from pynq.lib.pmod import PMOD_GROVE_G3\n",
    "from pynq.lib.pmod import PMODB\n",
    "from pynq import PL\n",
    "\n",
    "import oled\n",
    "import json\n",
    "import requests\n",
    "import time\n",
    "\n",
    "# load config\n",
    "config = json.load(open('config.json'))\n",
    "print(config)\n",
    "\n",
    "# display lib from oled.py\n",
    "display = oled.OledDisplay(PMODB, PMOD_GROVE_G3)\n",
    "\n",
    "# reset diplay\n",
    "PL.reset()\n",
    "display.clear()\n",
    "\n",
    "# track line lengths\n",
    "old_lines = [0 for _ in range(8)]\n",
    "\n",
    "# easy printing\n",
    "def write(text, line=0):\n",
    "    global display\n",
    "    global old_lines\n",
    "    \n",
    "    old_len = old_lines[line]\n",
    "    # prevent overflow\n",
    "    if len(text) > 16:\n",
    "        text = text[:16]\n",
    "    new_len = len(text)\n",
    "    \n",
    "    if new_len < old_len:\n",
    "        display.set_XY(line, new_len)\n",
    "        for _ in range(old_len - new_len):\n",
    "            display.write(' ')\n",
    "\n",
    "    display.set_XY(line, 0)\n",
    "    display.write(text)\n",
    "    old_lines[line] = new_len\n",
    "    \n",
    "server = config['server']\n",
    "while True:\n",
    "    res = requests.get('{}/lots'.format(server)).json()\n",
    "    for i, lot in enumerate(res['lots']):\n",
    "        write('{}: {}'.format(lot['name'], lot['cars']), i * 2)\n",
    "    \n",
    "    time.sleep(2)\n",
    "\n",
    "del display"
   ]
  },
  {
   "cell_type": "code",
   "execution_count": null,
   "metadata": {},
   "outputs": [],
   "source": []
  }
 ],
 "metadata": {
  "kernelspec": {
   "display_name": "Python 3",
   "language": "python",
   "name": "python3"
  },
  "language_info": {
   "codemirror_mode": {
    "name": "ipython",
    "version": 3
   },
   "file_extension": ".py",
   "mimetype": "text/x-python",
   "name": "python",
   "nbconvert_exporter": "python",
   "pygments_lexer": "ipython3",
   "version": "3.6.0"
  }
 },
 "nbformat": 4,
 "nbformat_minor": 2
}
