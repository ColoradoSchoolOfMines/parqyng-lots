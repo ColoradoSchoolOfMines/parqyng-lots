{
 "cells": [
  {
   "cell_type": "markdown",
   "metadata": {},
   "source": [
    "# Motion Sensor Controller\n",
    "\n",
    "This code controls the motion sensors and sends data to the web appplication.\n",
    "\n",
    "spacing specifies the distance between the sensors, so that the velocity may be calculated"
   ]
  },
  {
   "cell_type": "code",
   "execution_count": null,
   "metadata": {},
   "outputs": [],
   "source": [
    "from pynq.overlays.base import BaseOverlay\n",
    "import time\n",
    "base = BaseOverlay('base.bit')\n",
    "spacing = 1.8"
   ]
  },
  {
   "cell_type": "markdown",
   "metadata": {},
   "source": [
    "This cell loads config data from this directory, most notibly the server address."
   ]
  },
  {
   "cell_type": "code",
   "execution_count": null,
   "metadata": {},
   "outputs": [],
   "source": [
    "import json\n",
    "config = json.load(open('config.json'))"
   ]
  },
  {
   "cell_type": "markdown",
   "metadata": {},
   "source": [
    "This is the function responsible for sending data to the server. It runs concurrently in a separate thread, to allow the sensor code to run in parallel."
   ]
  },
  {
   "cell_type": "code",
   "execution_count": 87,
   "metadata": {},
   "outputs": [],
   "source": [
    "from concurrent.futures import ThreadPoolExecutor\n",
    "from requests_futures.sessions import FuturesSession\n",
    "executor = ThreadPoolExecutor(max_workers=4)\n",
    "server = config['server']\n",
    "session = FuturesSession(executor=executor)\n",
    "f_params = session.post(server + '/register?lot=1')\n",
    "def log_to_server(n):\n",
    "    params = f_params.result().json()\n",
    "    if n > 0:\n",
    "        params[\"enter\"] = n\n",
    "    else:\n",
    "        params[\"exit\"] = -n\n",
    "    session.post(server + \"/report\", json=params)"
   ]
  },
  {
   "cell_type": "markdown",
   "metadata": {},
   "source": [
    "Set up the sensors and debugging outputs."
   ]
  },
  {
   "cell_type": "code",
   "execution_count": 88,
   "metadata": {
    "scrolled": false
   },
   "outputs": [],
   "source": [
    "from pynq.lib.pmod import *\n",
    "from pynq.lib.arduino import Grove_Buzzer as A_Grove_Buzzer, ARDUINO_GROVE_G1"
   ]
  },
  {
   "cell_type": "code",
   "execution_count": 89,
   "metadata": {},
   "outputs": [],
   "source": [
    "sensors = [Grove_PIR(base.PMODA, port) for port in (PMOD_GROVE_G1, PMOD_GROVE_G2)]\n",
    "bar = Grove_LEDbar(base.PMODB, PMOD_GROVE_G4)\n",
    "buzz = A_Grove_Buzzer(base.ARDUINO, ARDUINO_GROVE_G1)"
   ]
  },
  {
   "cell_type": "markdown",
   "metadata": {},
   "source": [
    "functions to play ascending and descending dubugging tones"
   ]
  },
  {
   "cell_type": "code",
   "execution_count": 90,
   "metadata": {},
   "outputs": [],
   "source": [
    "def tone_asc():\n",
    "    buzz.play_tone(494, 428)\n",
    "    buzz.play_tone(659, 428)\n",
    "    \n",
    "def tone_desc():\n",
    "    buzz.play_tone(659, 428)\n",
    "    buzz.play_tone(494, 428)"
   ]
  },
  {
   "cell_type": "markdown",
   "metadata": {},
   "source": [
    "the actual code -- pretty simple: if something triggered the other sensor in the past 10 seconds, then trigger the direction of the motion"
   ]
  },
  {
   "cell_type": "code",
   "execution_count": 100,
   "metadata": {},
   "outputs": [
    {
     "name": "stdout",
     "output_type": "stream",
     "text": [
      "in | count 1 | 1.0361491162586316 m/s\n",
      "out | count 0 | 1.3318424294547664 m/s\n",
      "in | count 1 | 0.8658359935872015 m/s\n",
      "in | count 2 | 0.3832279922578756 m/s\n",
      "out | count 1 | 0.21347056263470673 m/s\n",
      "out | count 0 | 1.1865558046031612 m/s\n",
      "in | count 1 | 1.3201443355202553 m/s\n",
      "in | count 2 | 0.4689964628926911 m/s\n",
      "in | count 3 | 1.0293425508413887 m/s\n",
      "in | count 4 | 1.488308677993269 m/s\n",
      "out | count 3 | 1.5143293388505308 m/s\n",
      "in | count 4 | 1.6877125041055354 m/s\n",
      "out | count 3 | 1.5454213448015799 m/s\n",
      "in | count 4 | 1.4744140711902434 m/s\n",
      "out | count 3 | 1.6704366767525378 m/s\n",
      "out | count 2 | 0.5034753093692744 m/s\n",
      "out | count 1 | 0.7687778782413818 m/s\n",
      "out | count 0 | 0.9922305295670412 m/s\n",
      "out | count -1 | 0.43994060464540824 m/s\n",
      "out | count -2 | 1.3091595004821353 m/s\n",
      "out | count -3 | 1.3766780793723683 m/s\n",
      "out | count -4 | 1.5020924485772602 m/s\n",
      "out | count -5 | 1.4744049734848548 m/s\n"
     ]
    },
    {
     "ename": "KeyboardInterrupt",
     "evalue": "",
     "output_type": "error",
     "traceback": [
      "\u001b[0;31m---------------------------------------------------------------------------\u001b[0m",
      "\u001b[0;31mKeyboardInterrupt\u001b[0m                         Traceback (most recent call last)",
      "\u001b[0;32m<ipython-input-100-7f7c278e206a>\u001b[0m in \u001b[0;36m<module>\u001b[0;34m()\u001b[0m\n\u001b[1;32m     20\u001b[0m                 \u001b[0mdetect\u001b[0m\u001b[0;34m[\u001b[0m\u001b[0mi\u001b[0m\u001b[0;34m]\u001b[0m \u001b[0;34m=\u001b[0m \u001b[0mclock\u001b[0m\u001b[0;34m\u001b[0m\u001b[0m\n\u001b[1;32m     21\u001b[0m     \u001b[0mdetect\u001b[0m \u001b[0;34m=\u001b[0m \u001b[0;34m[\u001b[0m\u001b[0;36m0\u001b[0m \u001b[0;32mif\u001b[0m \u001b[0mclock\u001b[0m \u001b[0;34m-\u001b[0m \u001b[0;36m10\u001b[0m \u001b[0;34m>\u001b[0m \u001b[0mv\u001b[0m \u001b[0;32melse\u001b[0m \u001b[0mv\u001b[0m \u001b[0;32mfor\u001b[0m \u001b[0mv\u001b[0m \u001b[0;32min\u001b[0m \u001b[0mdetect\u001b[0m\u001b[0;34m]\u001b[0m\u001b[0;34m\u001b[0m\u001b[0m\n\u001b[0;32m---> 22\u001b[0;31m     \u001b[0mbar\u001b[0m\u001b[0;34m.\u001b[0m\u001b[0mwrite_binary\u001b[0m\u001b[0;34m(\u001b[0m\u001b[0mdisplay\u001b[0m\u001b[0;34m)\u001b[0m\u001b[0;34m\u001b[0m\u001b[0m\n\u001b[0m",
      "\u001b[0;32m/opt/python3.6/lib/python3.6/site-packages/pynq/lib/pmod/pmod_grove_ledbar.py\u001b[0m in \u001b[0;36mwrite_binary\u001b[0;34m(self, data_in)\u001b[0m\n\u001b[1;32m    118\u001b[0m         \"\"\"\n\u001b[1;32m    119\u001b[0m         \u001b[0mself\u001b[0m\u001b[0;34m.\u001b[0m\u001b[0mmicroblaze\u001b[0m\u001b[0;34m.\u001b[0m\u001b[0mwrite_mailbox\u001b[0m\u001b[0;34m(\u001b[0m\u001b[0;36m0\u001b[0m\u001b[0;34m,\u001b[0m \u001b[0mdata_in\u001b[0m\u001b[0;34m)\u001b[0m\u001b[0;34m\u001b[0m\u001b[0m\n\u001b[0;32m--> 120\u001b[0;31m         \u001b[0mself\u001b[0m\u001b[0;34m.\u001b[0m\u001b[0mmicroblaze\u001b[0m\u001b[0;34m.\u001b[0m\u001b[0mwrite_blocking_command\u001b[0m\u001b[0;34m(\u001b[0m\u001b[0mWRITE_LEDS\u001b[0m\u001b[0;34m)\u001b[0m\u001b[0;34m\u001b[0m\u001b[0m\n\u001b[0m\u001b[1;32m    121\u001b[0m \u001b[0;34m\u001b[0m\u001b[0m\n\u001b[1;32m    122\u001b[0m     \u001b[0;32mdef\u001b[0m \u001b[0mwrite_brightness\u001b[0m\u001b[0;34m(\u001b[0m\u001b[0mself\u001b[0m\u001b[0;34m,\u001b[0m \u001b[0mdata_in\u001b[0m\u001b[0;34m,\u001b[0m \u001b[0mbrightness\u001b[0m\u001b[0;34m=\u001b[0m\u001b[0;34m[\u001b[0m\u001b[0mMED\u001b[0m\u001b[0;34m]\u001b[0m\u001b[0;34m*\u001b[0m\u001b[0;36m10\u001b[0m\u001b[0;34m)\u001b[0m\u001b[0;34m:\u001b[0m\u001b[0;34m\u001b[0m\u001b[0m\n",
      "\u001b[0;32m/opt/python3.6/lib/python3.6/site-packages/pynq/lib/pmod/pmod.py\u001b[0m in \u001b[0;36mwrite_blocking_command\u001b[0;34m(self, command)\u001b[0m\n\u001b[1;32m    151\u001b[0m         \"\"\"\n\u001b[1;32m    152\u001b[0m         \u001b[0mself\u001b[0m\u001b[0;34m.\u001b[0m\u001b[0mwrite\u001b[0m\u001b[0;34m(\u001b[0m\u001b[0mMAILBOX_OFFSET\u001b[0m \u001b[0;34m+\u001b[0m \u001b[0mMAILBOX_PY2IOP_CMD_OFFSET\u001b[0m\u001b[0;34m,\u001b[0m \u001b[0mcommand\u001b[0m\u001b[0;34m)\u001b[0m\u001b[0;34m\u001b[0m\u001b[0m\n\u001b[0;32m--> 153\u001b[0;31m         \u001b[0;32mwhile\u001b[0m \u001b[0mself\u001b[0m\u001b[0;34m.\u001b[0m\u001b[0mread\u001b[0m\u001b[0;34m(\u001b[0m\u001b[0mMAILBOX_OFFSET\u001b[0m \u001b[0;34m+\u001b[0m \u001b[0mMAILBOX_PY2IOP_CMD_OFFSET\u001b[0m\u001b[0;34m)\u001b[0m \u001b[0;34m!=\u001b[0m \u001b[0;36m0\u001b[0m\u001b[0;34m:\u001b[0m\u001b[0;34m\u001b[0m\u001b[0m\n\u001b[0m\u001b[1;32m    154\u001b[0m             \u001b[0;32mpass\u001b[0m\u001b[0;34m\u001b[0m\u001b[0m\n\u001b[1;32m    155\u001b[0m \u001b[0;34m\u001b[0m\u001b[0m\n",
      "\u001b[0;32m/opt/python3.6/lib/python3.6/site-packages/pynq/lib/pynqmicroblaze.py\u001b[0m in \u001b[0;36mread\u001b[0;34m(self, offset, length)\u001b[0m\n\u001b[1;32m    299\u001b[0m         \"\"\"\n\u001b[1;32m    300\u001b[0m         \u001b[0;32mif\u001b[0m \u001b[0mlength\u001b[0m \u001b[0;34m==\u001b[0m \u001b[0;36m1\u001b[0m\u001b[0;34m:\u001b[0m\u001b[0;34m\u001b[0m\u001b[0m\n\u001b[0;32m--> 301\u001b[0;31m             \u001b[0;32mreturn\u001b[0m \u001b[0mself\u001b[0m\u001b[0;34m.\u001b[0m\u001b[0mmmio\u001b[0m\u001b[0;34m.\u001b[0m\u001b[0mread\u001b[0m\u001b[0;34m(\u001b[0m\u001b[0moffset\u001b[0m\u001b[0;34m)\u001b[0m\u001b[0;34m\u001b[0m\u001b[0m\n\u001b[0m\u001b[1;32m    302\u001b[0m         \u001b[0;32melif\u001b[0m \u001b[0mlength\u001b[0m \u001b[0;34m>\u001b[0m \u001b[0;36m1\u001b[0m\u001b[0;34m:\u001b[0m\u001b[0;34m\u001b[0m\u001b[0m\n\u001b[1;32m    303\u001b[0m             \u001b[0;32mreturn\u001b[0m \u001b[0;34m[\u001b[0m\u001b[0mself\u001b[0m\u001b[0;34m.\u001b[0m\u001b[0mmmio\u001b[0m\u001b[0;34m.\u001b[0m\u001b[0mread\u001b[0m\u001b[0;34m(\u001b[0m\u001b[0moffset\u001b[0m \u001b[0;34m+\u001b[0m \u001b[0;36m4\u001b[0m\u001b[0;34m*\u001b[0m\u001b[0mi\u001b[0m\u001b[0;34m)\u001b[0m \u001b[0;32mfor\u001b[0m \u001b[0mi\u001b[0m \u001b[0;32min\u001b[0m \u001b[0mrange\u001b[0m\u001b[0;34m(\u001b[0m\u001b[0mlength\u001b[0m\u001b[0;34m)\u001b[0m\u001b[0;34m]\u001b[0m\u001b[0;34m\u001b[0m\u001b[0m\n",
      "\u001b[0;32m/opt/python3.6/lib/python3.6/site-packages/pynq/mmio.py\u001b[0m in \u001b[0;36mread\u001b[0;34m(self, offset, length)\u001b[0m\n\u001b[1;32m    112\u001b[0m         \u001b[0mos\u001b[0m\u001b[0;34m.\u001b[0m\u001b[0mclose\u001b[0m\u001b[0;34m(\u001b[0m\u001b[0mself\u001b[0m\u001b[0;34m.\u001b[0m\u001b[0mmmap_file\u001b[0m\u001b[0;34m)\u001b[0m\u001b[0;34m\u001b[0m\u001b[0m\n\u001b[1;32m    113\u001b[0m \u001b[0;34m\u001b[0m\u001b[0m\n\u001b[0;32m--> 114\u001b[0;31m     \u001b[0;32mdef\u001b[0m \u001b[0mread\u001b[0m\u001b[0;34m(\u001b[0m\u001b[0mself\u001b[0m\u001b[0;34m,\u001b[0m \u001b[0moffset\u001b[0m\u001b[0;34m=\u001b[0m\u001b[0;36m0\u001b[0m\u001b[0;34m,\u001b[0m \u001b[0mlength\u001b[0m\u001b[0;34m=\u001b[0m\u001b[0;36m4\u001b[0m\u001b[0;34m)\u001b[0m\u001b[0;34m:\u001b[0m\u001b[0;34m\u001b[0m\u001b[0m\n\u001b[0m\u001b[1;32m    115\u001b[0m         \"\"\"The method to read data from MMIO.\n\u001b[1;32m    116\u001b[0m \u001b[0;34m\u001b[0m\u001b[0m\n",
      "\u001b[0;31mKeyboardInterrupt\u001b[0m: "
     ]
    }
   ],
   "source": [
    "ct = 0\n",
    "detect = [0 for s in sensors]\n",
    "last = [s.read() for s in sensors]\n",
    "while True:\n",
    "    display = 0\n",
    "    for m, i, s in zip([0b1111100000, 0b0000011111], [0, 1], sensors):\n",
    "        r = s.read()\n",
    "        clock = time.process_time()\n",
    "        display |= r and m\n",
    "        if r != last[i]:\n",
    "            # change in sensor output\n",
    "            last[i] = r\n",
    "            if r and detect[not i]:\n",
    "                ct += [-1, 1][i]\n",
    "                executor.submit([tone_desc, tone_asc][i])\n",
    "                log_to_server([-1, 1][i])\n",
    "                print(\"in\" if i else \"out\", \"| count\", ct, \"|\", spacing/(clock - detect[not i]), \"m/s\")\n",
    "                detect[not i] = 0\n",
    "            elif r:\n",
    "                detect[i] = clock\n",
    "    detect = [0 if clock - 10 > v else v for v in detect]\n",
    "    bar.write_binary(display)"
   ]
  },
  {
   "cell_type": "code",
   "execution_count": null,
   "metadata": {},
   "outputs": [],
   "source": []
  }
 ],
 "metadata": {
  "kernelspec": {
   "display_name": "Python 3",
   "language": "python",
   "name": "python3"
  },
  "language_info": {
   "codemirror_mode": {
    "name": "ipython",
    "version": 3
   },
   "file_extension": ".py",
   "mimetype": "text/x-python",
   "name": "python",
   "nbconvert_exporter": "python",
   "pygments_lexer": "ipython3",
   "version": "3.6.0"
  }
 },
 "nbformat": 4,
 "nbformat_minor": 2
}
