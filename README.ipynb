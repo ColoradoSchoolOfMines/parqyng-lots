{
 "cells": [
  {
   "cell_type": "markdown",
   "metadata": {},
   "source": [
    "![Parqyng Lots](https://github.com/ColoradoSchoolOfMines/parqyng-lots/raw/master/assets/logo.png)\n",
    "# Xilinx Hackathon Project\n",
    "\n",
    "This is a hackathon project for tracking the number of cars in an arbitrary\n",
    "number of parking lots with an arbitrary number of enterances.\n",
    "\n",
    "https://youtu.be/qi9YZLhS0gk\n",
    "\n",
    "## Design\n",
    "![System Diagram](https://github.com/ColoradoSchoolOfMines/parqyng-lots/raw/master/assets/system-diagram.png)\n",
    "\n",
    "## Installation\n",
    "\n",
    "### Car Detection Nodes\n",
    "Open the `client/detector.ipynb` file in Jupyter Notebooks. Follow the\n",
    "instructions for installing the hardware.\n",
    "\n",
    "### Server\n",
    "The server is written Python using the [TurboGears](http://turbogears.com/)\n",
    "framework.\n",
    "\n",
    "1. Install the application and its dependencies:\n",
    "\n",
    "        $ pip install -e . --user\n",
    "\n",
    "2. If you do not have `gearbox` installed:\n",
    "\n",
    "        $ pip install --user tg.devtools\n",
    "\n",
    "3. Setup the application:\n",
    "\n",
    "        $ cp development.ini.sample development.ini\n",
    "        $ gearbox setup-app\n",
    "\n",
    "4. Finally, serve the application:\n",
    "\n",
    "        $ gearbox serve --reload --debug\n",
    "\n",
    "### Server Displays\n",
    "Open the `client/display_server` file in Jupyter Notebooks. Follow the\n",
    "instructions for installation of the hardware.\n",
    "\n",
    "## Hackers\n",
    "- [Daichi Jameson](https://github.com/daichij)\n",
    "![:D](https://avatars2.githubusercontent.com/u/21346320?v=4&s=460)\n",
    "- [Jack Rosenthal](https://github.com/jackrosenthal)\n",
    "![](https://avatars0.githubusercontent.com/u/840735?v=4&s=460)\n",
    "- [Sam Sartor](https://github.com/samsartor)\n",
    "![](https://avatars1.githubusercontent.com/u/1740180?v=4&s=460)\n",
    "- [Sumner Evans](https://github.com/sumnerevans)\n",
    "![](https://avatars0.githubusercontent.com/u/16734772?v=4&s=460)\n",
    "\n",
    "## License\n",
    "This repository is licensed under the MIT License (see LICENSE file).\n"
   ]
  },
  {
   "cell_type": "code",
   "execution_count": null,
   "metadata": {},
   "outputs": [],
   "source": []
  }
 ],
 "metadata": {
  "kernelspec": {
   "display_name": "Python 3",
   "language": "python",
   "name": "python3"
  },
  "language_info": {
   "codemirror_mode": {
    "name": "ipython",
    "version": 3
   },
   "file_extension": ".py",
   "mimetype": "text/x-python",
   "name": "python",
   "nbconvert_exporter": "python",
   "pygments_lexer": "ipython3",
   "version": "3.6.0"
  }
 },
 "nbformat": 4,
 "nbformat_minor": 2
}
